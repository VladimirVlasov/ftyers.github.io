{
 "cells": [
  {
   "cell_type": "code",
   "execution_count": 1,
   "metadata": {},
   "outputs": [],
   "source": [
    "import ufal.udpipe\n",
    "\n",
    "class Model:\n",
    "    def __init__(self, path):\n",
    "        \"\"\"Load given model.\"\"\"\n",
    "        self.model = ufal.udpipe.Model.load(path)\n",
    "        if not self.model:\n",
    "            raise Exception(\"Cannot load UDPipe model from file '%s'\" % path)\n",
    "\n",
    "    def tokenize(self, text):\n",
    "        \"\"\"Tokenize the text and return list of ufal.udpipe.Sentence-s.\"\"\"\n",
    "        tokenizer = self.model.newTokenizer(self.model.DEFAULT)\n",
    "        if not tokenizer:\n",
    "            raise Exception(\"The model does not have a tokenizer\")\n",
    "        return self._read(text, tokenizer)\n",
    "\n",
    "    def read(self, text, in_format):\n",
    "        \"\"\"Load text in the given format (conllu|horizontal|vertical) and return list of ufal.udpipe.Sentence-s.\"\"\"\n",
    "        input_format = ufal.udpipe.InputFormat.newInputFormat(in_format)\n",
    "        if not input_format:\n",
    "            raise Exception(\"Cannot create input format '%s'\" % in_format)\n",
    "        return self._read(text, input_format)\n",
    "\n",
    "    def _read(self, text, input_format):\n",
    "        input_format.setText(text)\n",
    "        error = ufal.udpipe.ProcessingError()\n",
    "        sentences = []\n",
    "\n",
    "        sentence = ufal.udpipe.Sentence()\n",
    "        while input_format.nextSentence(sentence, error):\n",
    "            sentences.append(sentence)\n",
    "            sentence = ufal.udpipe.Sentence()\n",
    "        if error.occurred():\n",
    "            raise Exception(error.message)\n",
    "\n",
    "        return sentences\n",
    "\n",
    "    def tag(self, sentence):\n",
    "        \"\"\"Tag the given ufal.udpipe.Sentence (inplace).\"\"\"\n",
    "        self.model.tag(sentence, self.model.DEFAULT)\n",
    "\n",
    "    def parse(self, sentence):\n",
    "        \"\"\"Parse the given ufal.udpipe.Sentence (inplace).\"\"\"\n",
    "        self.model.parse(sentence, self.model.DEFAULT)\n",
    "\n",
    "    def write(self, sentences, out_format):\n",
    "        \"\"\"Write given ufal.udpipe.Sentence-s in the required format (conllu|horizontal|vertical).\"\"\"\n",
    "\n",
    "        output_format = ufal.udpipe.OutputFormat.newOutputFormat(out_format)\n",
    "        output = ''\n",
    "        for sentence in sentences:\n",
    "            output += output_format.writeSentence(sentence)\n",
    "        output += output_format.finishDocument()\n",
    "\n",
    "        return output"
   ]
  },
  {
   "cell_type": "code",
   "execution_count": 15,
   "metadata": {},
   "outputs": [],
   "source": [
    "# Can be used as\n",
    "#  model = Model('english-ud-1.2-160523.udpipe')\n",
    "#  sentences = model.tokenize(\"Hi there. How are you?\")\n",
    "#  for s in sentences:\n",
    "#      model.tag(s)\n",
    "#      model.parse(s)\n",
    "#  conllu = model.write(sentences, \"conllu\")"
   ]
  },
  {
   "cell_type": "code",
   "execution_count": 2,
   "metadata": {},
   "outputs": [],
   "source": [
    "udpipe_model = Model('ud_russian/russian-syntagrus-ud-2.2-conll18-180430.udpipe')"
   ]
  },
  {
   "cell_type": "code",
   "execution_count": 19,
   "metadata": {},
   "outputs": [
    {
     "name": "stdout",
     "output_type": "stream",
     "text": [
      "# newdoc\n",
      "# newpar\n",
      "# sent_id = 1\n",
      "# text = Это какое-то очень интересное предложение.\n",
      "1\tЭто\tэто\tPRON\t_\tAnimacy=Inan|Case=Nom|Gender=Neut|Number=Sing\t5\tnsubj\t_\t_\n",
      "2\tкакое-то\tкакой-то\tDET\t_\tCase=Nom|Gender=Neut|Number=Sing\t5\tdet\t_\t_\n",
      "3\tочень\tочень\tADV\t_\tDegree=Pos\t4\tobl\t_\t_\n",
      "4\tинтересное\tинтересный\tADJ\t_\tCase=Nom|Degree=Pos|Gender=Neut|Number=Sing\t5\tamod\t_\t_\n",
      "5\tпредложение\tпредложение\tNOUN\t_\tAnimacy=Inan|Case=Nom|Gender=Neut|Number=Sing\t0\troot\t_\tSpaceAfter=No\n",
      "6\t.\t.\tPUNCT\t_\t_\t5\tpunct\t_\t_\n",
      "\n",
      "# sent_id = 2\n",
      "# text = А это другое.\n",
      "1\tА\tа\tCCONJ\t_\t_\t3\tcc\t_\t_\n",
      "2\tэто\tэто\tPRON\t_\tAnimacy=Inan|Case=Nom|Gender=Neut|Number=Sing\t3\tnsubj\t_\t_\n",
      "3\tдругое\tдругой\tADJ\t_\tCase=Nom|Degree=Pos|Gender=Neut|Number=Sing\t0\troot\t_\tSpaceAfter=No\n",
      "4\t.\t.\tPUNCT\t_\t_\t3\tpunct\t_\tSpaceAfter=No\n",
      "\n",
      "\n"
     ]
    }
   ],
   "source": [
    "sents = udpipe_model.tokenize('Это какое-то очень интересное предложение. А это другое.')\n",
    "\n",
    "for s in sents:\n",
    "    udpipe_model.tag(s)\n",
    "    udpipe_model.parse(s)\n",
    "    \n",
    "conllu = udpipe_model.write(sents, \"conllu\")\n",
    "print(conllu)"
   ]
  },
  {
   "cell_type": "code",
   "execution_count": 20,
   "metadata": {},
   "outputs": [],
   "source": [
    "with open('first_udpipe_example.txt', 'w') as exp:\n",
    "    exp.write(conllu)"
   ]
  }
 ],
 "metadata": {
  "kernelspec": {
   "display_name": "Python 3",
   "language": "python",
   "name": "python3"
  },
  "language_info": {
   "codemirror_mode": {
    "name": "ipython",
    "version": 3
   },
   "file_extension": ".py",
   "mimetype": "text/x-python",
   "name": "python",
   "nbconvert_exporter": "python",
   "pygments_lexer": "ipython3",
   "version": "3.6.6"
  }
 },
 "nbformat": 4,
 "nbformat_minor": 2
}
