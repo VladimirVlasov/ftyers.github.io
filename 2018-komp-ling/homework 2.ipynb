{
 "cells": [
  {
   "cell_type": "code",
   "execution_count": 17,
   "metadata": {},
   "outputs": [],
   "source": [
    "import re\n",
    "from nltk.corpus import wordnet as wn"
   ]
  },
  {
   "cell_type": "code",
   "execution_count": 10,
   "metadata": {},
   "outputs": [],
   "source": [
    "from string import punctuation\n",
    "from nltk.corpus import stopwords\n",
    "punct = punctuation+'«»—…“”*№–'\n",
    "stops = set(stopwords.words('english'))\n",
    "\n",
    "def normalize(text):\n",
    "    \n",
    "    words = [word.strip(punct) for word in text.lower().split()]\n",
    "    words = [word for word in words if word and word not in stops]\n",
    "\n",
    "    return words"
   ]
  },
  {
   "cell_type": "code",
   "execution_count": 11,
   "metadata": {},
   "outputs": [
    {
     "name": "stderr",
     "output_type": "stream",
     "text": [
      "[nltk_data] Downloading package averaged_perceptron_tagger to\n",
      "[nltk_data]     /home/vladimir/nltk_data...\n",
      "[nltk_data]   Package averaged_perceptron_tagger is already up-to-\n",
      "[nltk_data]       date!\n"
     ]
    },
    {
     "data": {
      "text/plain": [
       "True"
      ]
     },
     "execution_count": 11,
     "metadata": {},
     "output_type": "execute_result"
    }
   ],
   "source": [
    "import nltk\n",
    "nltk.download('averaged_perceptron_tagger')"
   ]
  },
  {
   "cell_type": "code",
   "execution_count": 12,
   "metadata": {},
   "outputs": [],
   "source": [
    "from nltk import pos_tag"
   ]
  },
  {
   "cell_type": "code",
   "execution_count": 13,
   "metadata": {},
   "outputs": [
    {
     "data": {
      "text/plain": [
       "[('some', 'DT')]"
      ]
     },
     "execution_count": 13,
     "metadata": {},
     "output_type": "execute_result"
    }
   ],
   "source": [
    "pos_tag(['some'])"
   ]
  },
  {
   "cell_type": "markdown",
   "metadata": {},
   "source": [
    "Ворднет можно использовать для дизамбигуации. Самый простой алгоритм - алгоритм Леска. Нужно посчитать пересечение слов контекста, в котором употреблено слово с разными определениями из ворднета. Значение с максимальным пересечением - нужное."
   ]
  },
  {
   "cell_type": "code",
   "execution_count": 14,
   "metadata": {},
   "outputs": [],
   "source": [
    "words = [0,1,2,3,4,5,6,7,8,9]\n",
    "\n",
    "def get_words_in_context(words, window=3):\n",
    "    words_in_context = []\n",
    "    for index, word in enumerate(words):\n",
    "        words_in_context.append((word, words[max(0, index - window): index] + words[index + 1: index + window + 1]))\n",
    "    return words_in_context"
   ]
  },
  {
   "cell_type": "code",
   "execution_count": 15,
   "metadata": {},
   "outputs": [
    {
     "data": {
      "text/plain": [
       "[(0, [1, 2, 3]),\n",
       " (1, [0, 2, 3, 4]),\n",
       " (2, [0, 1, 3, 4, 5]),\n",
       " (3, [0, 1, 2, 4, 5, 6]),\n",
       " (4, [1, 2, 3, 5, 6, 7]),\n",
       " (5, [2, 3, 4, 6, 7, 8]),\n",
       " (6, [3, 4, 5, 7, 8, 9]),\n",
       " (7, [4, 5, 6, 8, 9]),\n",
       " (8, [5, 6, 7, 9]),\n",
       " (9, [6, 7, 8])]"
      ]
     },
     "execution_count": 15,
     "metadata": {},
     "output_type": "execute_result"
    }
   ],
   "source": [
    "get_words_in_context(words)"
   ]
  },
  {
   "cell_type": "code",
   "execution_count": 40,
   "metadata": {},
   "outputs": [],
   "source": [
    "def lesk(word, sentence, window):\n",
    "    \"\"\"Ваш код тут\"\"\"\n",
    "    maxoverlap = 0\n",
    "    tags = pos_tag(sentence)\n",
    "    tag = [tag for tag in tags if tag[0] == 'break'][0][1][1].lower()\n",
    "    window = [win[1] for win in get_words_in_context(sentence, window) if win[0]==word][0]\n",
    "    max_deffinition = ''\n",
    "    if tag in 'avn':\n",
    "        synsets = wn.synsets(word, pos=tag)\n",
    "    else:\n",
    "        synsets = wn.synsets(word)\n",
    "    for word_def in synsets:\n",
    "        splited_def = re.findall('\\w+', word_def.definition())\n",
    "        curr_overlap = 0\n",
    "        for context_word in window:\n",
    "            if context_word in splited_def:\n",
    "                curr_overlap += 1\n",
    "        curr_overlap = curr_overlap / len(window)\n",
    "        if curr_overlap > maxoverlap:\n",
    "            maxoverlap = curr_overlap\n",
    "            max_deffinition = word_def.definition()\n",
    "    return max_deffinition"
   ]
  },
  {
   "cell_type": "code",
   "execution_count": 41,
   "metadata": {},
   "outputs": [],
   "source": [
    "break_sents = []\n",
    "with open('corpus_eng.txt') as corpus:\n",
    "    for line in corpus:\n",
    "        if 'break' in normalize(line):\n",
    "            break_sents.append(line.lower())"
   ]
  },
  {
   "cell_type": "code",
   "execution_count": 42,
   "metadata": {},
   "outputs": [
    {
     "data": {
      "text/plain": [
       "418"
      ]
     },
     "execution_count": 42,
     "metadata": {},
     "output_type": "execute_result"
    }
   ],
   "source": [
    "len(break_sents)"
   ]
  },
  {
   "cell_type": "code",
   "execution_count": 43,
   "metadata": {},
   "outputs": [],
   "source": [
    "from random import sample"
   ]
  },
  {
   "cell_type": "code",
   "execution_count": 44,
   "metadata": {},
   "outputs": [],
   "source": [
    "break_sents = sample(break_sents, 10)"
   ]
  },
  {
   "cell_type": "code",
   "execution_count": 45,
   "metadata": {
    "scrolled": false
   },
   "outputs": [
    {
     "name": "stdout",
     "output_type": "stream",
     "text": [
      "the schedule ahead is light on divisional rivals. the kings play four pacific division opponents between now and christmas. there is one other demanding stretch of road games, nine in a 10-game span, between jan. 21 and feb. 9, but after that, the schedule may favor the kings. their five-day schedule break is feb. 10-15 and they have 13 of their final 20 games at home starting march 2. \n",
      "\n",
      "break - \n",
      "=============\n",
      "here's a few of the craziest lawsuits musicians have had to file just to get paid christian long share shutterstock getting paid as a musician has always seemed to be a daunting task. for as long as people have tried to make a living playing music, there have always been people and places that try to make use of bands’ talents by having them play for the benefit of “exposure,” cheating them out of a payday and belittling their craft as a whole. as a result, some musicians have resorted to the legal system to help them get the money they feel they’re owed. the most recent example is actor (and voice of about two-dozen simpsons characters) harry shearer, who filed a $125 million lawsuit last month against vivendi, the company that controls the rights to this is spinal tap , the widely beloved parody music doc. shearer played spinal tap bassist derek smalls, and also co-wrote all of the band’s music with co-stars christopher guest and michael mckean and director rob reiner. while the original production deal promised the quartet a 40% share of the profits, so far they’ve received $81 between 1984 and 2006 for merchandising, and another $98 between 1989 and 2006 for their music. to split. four ways. given that the wheels of justice turn slowly, shearer’s lawsuit might not see any kind of resolution for quite some time, so in the meantime, here’s a look at some of the recent lawsuits that musicians have had to file in order to get (or keep) the money that they feel was owed to them. yesh music vs. tidal getty image when tidal was first launched, jay-z announced that would would pay all artists an unprecedented 75% royalty rate. less than a year later, tidal was being sued for $5 million in unpaid royalties by yesh music and musician john emanuele from the band (wait for it) american dollar. the lawsuit claimed that tidal was streaming more than 100 of their songs and had yet to fork over any royalties that they claim were owed to them. the lawyer representing yesh music and emanuele, richard garbarini, stated that he found it “fairly amazing an organization that claims it was going to pay the artists, systematically does not pay the artists .” tidal went on record denying any of the allegations. kenny rogers vs. capitol records getty image the issue of digital distribution of music has been a hotly contested issue for years, as technology is quickly outpacing record labels ability (or willingness) to adequately compensate the artists responsible for the music. in 2012, when streaming was really beginning to take off, kenny rogers sued his label, capitol records, demanding a 50% payout of all the money made off the digital distribution of his songs , including ringtones, which came to roughly $400,000. read more rogers had originally requested an audit of emi in 2007, capitol records’ parent company, which took more than two years to complete. before long, all the people that rogers had been negotiating with were no longer with the company, and were replaced by a lawyer who told him that he would “ promptly try to resolve rogers’ requested audit,” more than four years after it was initially requested. this prolonged approach to problem solving led rogers to file the lawsuit. this came at the same time that several artists were busy putting together their own class action lawsuits against a host of other labels over the same issue. though rogers’ lawsuit was just a little bit different, as he opted to file his case in tennessee instead of california, believing that their courts would be more inclined to rule in his favor as a songwriter. it’s unclear if the lawsuit has yet to make it to court. li’l wayne vs. universal music group getty image while the rapper is still embroiled in a lawsuit with cash money ceo birdman over his recording contract in 2015, among many other issues , wayne also filed another lawsuit earlier this year, this time against the universal music group . he claims that the label was not only withholding royalties from him, but from several other artists on wayne’s label imprint, young money, to the tune of $40 million. the lawsuit also addressed some of wayne’s grievances over how cash money was using profit he felt he was owed to pay off their own debts. in august of this year, a judge put a hold on wayne’s case against universal, explaining that his lawsuit against birdman and cash money records would need to be resolved first. dayon davis vs. fox sports getty image here’s one that proves that it’s not always big-name performers involved in lawsuits about their royalties. back in 2006, composer dayon davis was hired by fox sports to help them build a music catalogue to score sports programs. four years later, he’d sign an official license agreement, which would pay him through performance rights organizations like bmi and ascap, which exist to ensure that musicians are paid when their work is used. then, in 2013, davis claimed that he had not been paid through those channels, and fox re-wrote his contract, offering to pay him on a sliding scale based on how often his songs were incorporated into their programming. yet another year later, davis still had not been paid, with fox sports contesting that he was overestimating the number of songs used. fox claimed 73 times, while davis’ team said the number was closer to 800 or so. davis eventually filed a lawsuit against fox in september of 2015, which is currently sitting in the purgatory of the american justice system . it’s also worth noting that bmi had sued davis back in 2011 , when his job was to put songs into the soundtrack for reality tv shows such as american idol and jersey shore . the performance rights group claims that davis had submitted falsified cue sheets that indicated how often the song would be used, which is exactly what davis is accusing fox sports of. stevie wonder vs. his former attorney’s widow getty image in 2015, stevie wonder was being sued by susan stack, the widow of his late lawyer, johanan vigoda. stack was claiming there was a stipulation in wonder’s contract with vigoda that she said entitled her to 6% of all royalties from the musician’s catalogue, arguing that there was stipulation in the contract that vigoda’s kin (stack) would receive the payments even after his death . wonder counter-sued stack, alleging that he never approved that particular clause, and had trusted that vigoda would have omitted it. while stack disputed his claim, ultimately it was wonder’s impaired vision that got him off the hook, proclaiming that “ he could not read any of the contracts that vigoda negotiated and prepared” before signing. stack claimed that there was a witness present reading the terms of the contract, but the judge threw out her case in november of last year, ruling in wonder’s favor. amen break okay, so this technically wasn’t a lawsuit, but rather some well-intentioned, downright altruistic crowd-funding. in early 2015, two british djs, martyn webster and steve theobald, set up a gofundme campaign to try and raise 1,000 pounds (a little over $1250) for the winstons, who recorded a song called “amen, brother” back in 1969. the song contains a six-second drum break, commonly referred to as the “amen break,” which has since been sampled about 1,500 times over the years , showing up in songs written by everyone from oasis to nwa. no one in the winstons rarely, if ever, got credit for it — much less any royalties. the dj’s gofundme page included a message to anyone who’d “ever written or sold any music with the amen break, or even just enjoyed one of the countless hundreds and hundreds of tunes that contain it” to donate. within a month, they’d raised 24 times their intended goal, and delivered an oversized check to former winstons’ frontman richard spencer, to which he appropriately replied “thank you very, very much. a-men .” while the original campaign was closed last march, a second campaign remains open indefinitely and is still taking donations, in case anyone feels like chipping in.\n",
      "\n",
      "break - \n",
      "=============\n",
      "e'twaun moore scored 14 of his 20 points in the third quarter as new orleans appeared to break the game open. \n",
      "\n",
      "break - (tennis) a score consisting of winning a game when your opponent was serving\n",
      "=============\n",
      "trailing by 10 at the break, oregon (1-1) got within 33-32 on chris boucher's dunk to cap a second half-opening 9-0 run. the ducks had the ball again with the chance to go ahead after dylan ennis' steal, but then turned it over.\n",
      "\n",
      "break - \n",
      "=============\n",
      "the communist party's mouthpiece people's daily warned in an editorial on thursday that china must break monopolies over core technologies and standards and remain untethered to other countries' technology supply chains. \n",
      "\n",
      "break - \n",
      "=============\n",
      "the wto said this week that a tax break from washington state to help boeing develop its new 777x jetliner was a prohibited subsidy, in a setback for the u.s. planemaker as it eyes victory in a parallel case against airbus ( air.pa ). \n",
      "\n",
      "break - \n",
      "=============\n",
      "the u.s. market’s belief in president-elect trump’s pledge to “make america great again” continues to drive upward momentum. that's been particularly true for small caps ; just one additional up day for the russell 2000 will break its twenty-year record for consecutive gains. it’s currently up 0.57%, at 1,343.51. \n",
      "\n",
      "break - (geology) a crack in the earth's crust resulting from the displacement of one side with respect to the other\n",
      "=============\n",
      "but iranian international azmoun levelled for rostov just before the break after turning jerome boateng to coolly slot past ulreich.\n",
      "\n",
      "break - \n",
      "=============\n",
      "for your chance to win a luxury break for two, enter your details in the form below by midnight on friday 2 december. a united kingdom is out in uk cinemas on 25 november. for tickets information, go to the a united kingdom official site follow the latest telegraph film news read more about: \n",
      "\n",
      "break - \n",
      "=============\n",
      "video transcript transcript for strait talk from times square nearly hour in the oval office like we're the closest we'll get. i hope not i sit up aspirations my allies who is to graham's programs oval office look at the cup. cup. and work into grams oval office. in me facebook. bc news facebook his book booth gas perfect in times square okay lc in new york who's going to be sitting here. we share in january 21. try according to the polls bill and hillary reserves hillary and bill. according to proposals for a while now and whoever's whoever's not permit not loma. government that have yet that only you can didn't cup regatta. i don't think he's gonna have a chair witnesses. so yeah i agree with you so we're gonna catch everybody up where we think the race is. if you take a look at all the polls today the average number is around hillary and leader 45 points which is well i think she's gonna end up winning back. the question in my mind is that she had fifty hershey rate below fifty so i think she wins she wins by a bigger margin. and barack obama beat mitt romney which is funny because of all the stuff that down 10% of much of the loser mitt romney is down just gonna get beat worse than it around. which is really really interesting immediate return we'll buyer's remorse or i wish i would have decisions. how do you see dusty topping the list has to be mitt romney why didn't knight did and why did i just decide it's a hand this off to the next person i should've kept my doors open. to the number two you have been joseph biden is also still think even on streets happy with the way things are going. he got to think joseph biden also speaking. man at i had gotten man i would have had all this other stuff i can beat this guy easily would have funny been president. well i think there's going to be a whole bunch of people with a looking back at this race and say what if whenever i agree with you what if what if when it. biden romney i think a whole winter candidates that ran against chopper whiting i'd taken more seriously right i think is a legitimate people in america the gop establishment. might imagine a more seriously at the beginning of this. but before we leave the oval office and talk about states in the country i want to ask you about. what's gonna happen for the leader that sitting in this oval office. in the aftermath of this election some of that person and that chair what are they going to be able to do. well i think number one it has to do with what happens to congress. in the aftermath as well. i mean if you have a democrat hillary clinton coming and it is still an all republican senate and obviously to control of the house. that's to be very different scenario obviously been approved urged congress and splits are. i think ideally for her she want the dams also get all of the senate this summer obama is such as originally carlos. lee's summer. confirmations can happen and and share some movement in that unless he's in the country together how does she bring the country together dessert time machine available know that at. but he does say such streak started chamber since the currency teachers assaults started it it is. you know i don't know if you wanted to say was 2008. when sarah palin broke into the national scene i don't know if you wanna say was 2000. i don't know where exactly wanted to talk about when the notion civility. in working to my. they're back in the ninety's when the impeachment stuff now that have been gone all the way there this has been a small erosion. of cooperative working for calming things bitterness yeah. afghanistan's at a point now we were talking earlier where truth and facts and information every little matter priced at all the partisans ya want it. biased information all of the leaders who know better feed into instead of saying pumping the brakes and saying no. perhaps some action look at facts there was an article written on the private hill. that looked one of the speeches donald trump in brook economy. and blew through the entire article was just about refuting everything he answers says it could put a decent to each of us not be factually. we true whether somebody to thing from this weekend. and they edited out in fifty. he lied 57 times this weekend this weekend just this weekend to us yet knows lisa maloney. so i think you know it's interesting that tomorrow is the anniversary. of abraham lincoln's election to them. presidency 1860 tomorrow's the anniversary of this labroque welcoming that. i think. hillary and the likely to win. he's gonna come as too as divided country as it was back in 1960. it's as divided. hopefully not its boston. but certainly in terms of ideology in terms of express your name to america's innocence to america's. it's it's going to be it's gonna do you bring you broke transition even if donald trump would have went to donald trump were to win with an all republican congress that's still would not be easy transition for his administration nor for the way the american people would accept vice president at so we're heading regardless to for a very difficult years. com. i'm not sure they're donald trump cards temperament. or the patience to wanna do things missed. i think he's rhetorically i think you have to forget about attempts to heal some other republican need to seek to carrick he's that we needed to me it drives the republicans took him back to fly across cuba it's the only language and the drugs may be looked to drugs and equipment is coming immediately here we're. party today. to be some hope. i i don't know i don't happen. ok let's go outside. walk out that with this and forties through its exports. we're gonna wander outside to the side door. to see the news to mobile office simulator based book booth. page on the trafalis keep talking lt i'm talking and talk business times square to times square take a lot. no real new york producer was there for easier and as you can see will mean. lt and i will be in there. tomorrow and that's where it good morning america and from nasa for a personal records america. nick stewart's four. it's a take a look give us a shot of this. united states of america which i never like where they locate alaska wise i think it definitely does but that becomes a that over here is where it's the matt phillips talked a little bit rate quick. what is this that's where you wanna be wednesday as hawaii after global warming. ties to connect twelve and you got to do this to. corporate residents could so that's the mat lv let's talk matt taylor. all right so what's your. expectation electoral college vote. well fundamentals of partisanship over here and install with florida right very important state. donald trump has not proceed to win the election if he doesn't win florida. quickly that that means that he isn't when employees probably over yet you have to make we've ever earlier knight yes from i just wanna make notes. there are a lot of people have been talking about the huge surge and early voters among latinos. i want to point out that. the recurrence of left no stone unturned. she recruited share to hold a fund raising concert in miami to make sugar lg bt community shows up in big numbers for her as well to guarantee that she wins florida and not lose its charm. so i think the pairing of florida and north carolina the florida north carolina that pairing tomorrow night we'll tell us a lot about where this election. because donald trump there's no map that i've seen it donald trump can win without winning both of those states. i guess i'm with you. i mean anything in this weird because president obama only won florida by abby was point 88 point yes and it wasn't called until the next day yes. so any loss yeah. so so you'll scenario we're talking about is not completely hopeless form it's doable yet. but the question is whether or not the fifty million plus voters that a come into the scene since 2008. progress or promotional express him or for her. and the other state that i find interesting is virginia because virginia used to be a red state used to be for a hundred years 150 years. and then barack obama started winning it and then now it seems like it's gone that's from the scene have a chance. there which is really are obviously having some came on the ticket selling bottles well. when thousands are without jobs there's there's a shift in ideology in this area you don't kind of started in dc. and as he had more or more transportation are more more people extending out they've infiltrated purchasing goods and you're right they're seeing their ticket to children. it's athens around really that don't feed of the confederacy this virginia. so the once they pass a one both of us know well michigan yes everybody's in michigan today. this is not flipping people from the bitten this risk of death. that's the permit. used against britain. flew yet tonight i think that any talk it turning red. it's incredibly optimistic if not ninety agri based are not just a toll but we're missing genders. we know was important that state we are some of the kind of people who were investigating letters stand for what they won't stand. i think there is a little bit of white working class that has happening in ohio which i think it's going to be very. close and and count on me when ohio there's some atlantans are easy and ohio. he was beat the arizona and nevada with an optimist you see the shots with a couple of bride standing next to hillary clinton's intellect landa of them philip fusion. they could which usually we're because she's not a basketball person others say. but steve she does like celebrities and celebrities like her result. well let's go closer to your new home. i only stayed out here are there's two states out here that i think are interesting to talk about the first one which is nevada yes. i think it's already lost to donald trump sony lost that if you take a look at the early voter what's happening only about there's this huge i call it. all lug ronde that they play if i can still latino vote and a survivor in the hands of all the ground they asked that keep. the big wave is here. asked i think when you look at yearly vote about half of its in already its air overwhelmingly. a huge increase in latino vote in nevada. he would have to win i think the numbers he got to win but what the keg. election day voters by twenty points in order to wind event so that state. if he does it when he has to win a michigan. we're listening and he's not winning michigan that it that makes its top so that's what i think nevada but you have another state. watch this i meus for interview talk. these some live there in provo. lovely state beautiful state under rated statements in this to progress street. but what's really hilarious to me is that you had a guy and evan mcmullen who literally jumps and a couple months out. not a couple months out from record debate no just a couple months out here he did it again. the groundswell of mormon support he has their plus he's a very civil and capable human being to can work day as he's he's gotten to a point now where he may. actually prevent donald trump for securing what has long been seduced and we in red state. you may even win in the state which would be the first to third party candidate won a states sends 196890s. george wallace which does two things in my opinion. one. obviously isn't priced as is his story merchants have written obviously fans because he came out that experience against property sort of stuck trump. in his home state was to be a good pattern about themselves but also suit is very encouraging. the 22 when he of the yacht because we'd been. asking whenever gonna have this third party when and how. if you have a guy come man. within five months of the election. and win eight states imagine what what happened. it's of viable party got together as a third party had a groundswell of ground game and in terms of their campaign. and had some more elusive and not democrat i'm not republican in this. what humans i have been looking for a candidate yes so i think it's sexy news we've talked about this. i think one of the things in the aftermath of this election just like we talked about the leadership challenge whoever's president's going to be. one of the things i think. that i am optimistic about is i think we're gonna see a whole bunch of people in 28 teams run as independents for congress for senate. for statewide office for local office because people are tired of the two political party system. that will be fan i wasn't terribly arrogant and right now up just fifty million new voters are talked about earlier 42 of them 42% of my did oppressed democrats but to 48%. i can present. sex and the fastest growing group of voters is in the senate there's so we started something yes west outweighed her. this i think we're tracking them away but i'm so i think that's i'm fascinated by utah fascinated this wanting to viewers thought i understand when you tune in tomorrow. which have please do you not abc dot com. on that look on the app but for a digital whatever. 7 o'clock o'clock both so. watch it would. the way it works is no state will be called until polls and that stayed close. and the race for the white house whose president won't be called to at least. until the polls closed in california the mother go to the returns so it's all 11 pm eastern time. 8 pme pacific time nothing will be called that rates won't be called but states will be called as we know them as they close across the way. and they are likely to see more red states called then blew this it you'll see in the early going in the early going. yes but then. once the numbers to close and with and these states haven't been called an authority wear that. this is blue. yet this is a nice blue your specific campus of the blue wall right here. looks like next to a red light regular red monopoly deaths but unfortunately the red states department which is not a i had as many of us that are. how many electoral votes so basically is she's actions sixty. and we haven't heard this yet yet it's to start doing whatever it is you gonna do it is sponsoring out of high and greta whatever it is your response to an average about what was. we go let's talk texas for a sentence that's right let's where you are that's right live. donald trump in all likelihood there was this whole thing well can texas turn blue it's gonna carry it but it's not going to be the by the margin. that mitt romney carried it around if it carried about eighteen points and tony twelve it's going to be closer it may be nine maybe 1088. but it's a reason why is that same wave that's care unit effective bad florida. latino wave. his that turnout in texas among latinos has been finality of the largest latino turnout ever they've ever seen in there so it's not gonna turn it blue. but it certainly gets it set up to turn purple. that is asked me if viewers what they did with would be so great that you actually 2008. but this is going to be able to employ eight years rader would've thought you crazy. but it will be in play i don't know if it'll be a plane point 18. but it could be employee for eighteen independents wanted to start running and when he eighteen point right do it could be purple before it turns blue. what about independent from texas. an independent from texas assessment the president strategy guide and direct. we'll save death. i'm taking time off after this is. it's yeah everybody waited citizens you'll get another let's get another shot at absolutely look at give us a shadow of the seats booked. we take a look here once again. this is our fantastic said all updates tomorrow abc news else slide that students have praised book. and inside is the answer graham oval office miniature version of it. which is pretty cool. people will be to come to times square line up. content security were dog fans rioted and dogs and they'll be dogs you get a common side take your photograph inside the oval office. we get a celebrity alert michael strahan will be out here it's wednesday jtj i'll be here and you may we may that you may have special guests from inside come out. so what are they come out you should come out at this mexico. apparently on a closed just tune in. 7 pm tomorrow we're actually doing a facebook we don't want early and we. as for thirty straight talk. thirty this is here he's due prisons were doing inside though at that. i don't deck near the cedar tomorrow for a port security will give yet more indication we may learn some stuff along the way. he told me tomorrow and don't even know it just. thanks clu manner. oh and. this transcript has been automatically generated and may not be 100% accurate. now playing: hillary clinton's battleground blitz now playing: 2016 election has been goldmine for comedians now playing: trump hits 8 states in final hours of campaign now playing: wall street reacts to fbi clinton email investigation now playing: presidential election polls show a virtual tie in florida and north carolina now playing: james comey likely to have frosty relationship with whoever wins election now playing: donald trump in a minute now playing: 2016 - 1 day: bill clinton makes pitch in nc battleground now playing: obama campaigns for hillary clinton in new hampshire now playing: bill clinton gives final solo campaign rally of the election cycle now playing: strait talk from times square now playing: 1992 - 1 day: bush insists he has a shot vs. clinton now playing: 2000 - 1 day: jennings on key 7 states in bush vs. gore now playing: america 101: why do we vote on the first tuesday? now playing: 2008 - 1 day: obama's grandmother passes away now playing: 2016 - 1 day: trump campaign's battleground blitz now playing: 2016 - 1 day: nearly 500 days on trump campaign now playing: 2016 - 1 day: clinton campaign barnstorming battlegrounds now playing: 2016 - 1 day: clinton checks in with grandchildren now playing: family builds electric fence to protect trump lawn signs now playing: {{itm.title}} {\"id\":43369718,\"title\":\"strait talk from times square\",\"duration\":\"16:26\",\"description\":\"matt dowd and lz granderson break down the state storylines at play one day ahead of this historic election.\",\"url\":\"/politics/video/strait-talk-times-square-43369718\",\"section\":\"politics\",\"mediatype\":\"default\"} \n",
      "\n"
     ]
    },
    {
     "name": "stdout",
     "output_type": "stream",
     "text": [
      "break - (geology) a crack in the earth's crust resulting from the displacement of one side with respect to the other\n",
      "=============\n"
     ]
    }
   ],
   "source": [
    "for sent in break_sents:\n",
    "    print(sent)\n",
    "    print('break - {}'.format(lesk('break', normalize(sent), 10)))\n",
    "    print('=============')"
   ]
  },
  {
   "cell_type": "code",
   "execution_count": 46,
   "metadata": {},
   "outputs": [],
   "source": [
    "def lesk(word, sentence, window):\n",
    "    \"\"\"Ваш код тут\"\"\"\n",
    "    maxoverlap = 0\n",
    "    tags = pos_tag(sentence)\n",
    "    tag = [tag for tag in tags if tag[0] == 'break'][0][1][1].lower()\n",
    "    window = [win[1] for win in get_words_in_context(sentence, window) if win[0]==word][0]\n",
    "    max_deffinition = ''\n",
    "    if tag in 'avn':\n",
    "        synsets = wn.synsets(word, pos=tag)\n",
    "    else:\n",
    "        synsets = wn.synsets(word)\n",
    "    for word_def in synsets:\n",
    "        splited_def = re.findall('\\w+', ' '.join(word_def.examples()))\n",
    "        curr_overlap = 0\n",
    "        for context_word in window:\n",
    "            if context_word in splited_def:\n",
    "                curr_overlap += 1\n",
    "        curr_overlap = curr_overlap / len(window)\n",
    "        if curr_overlap > maxoverlap:\n",
    "            maxoverlap = curr_overlap\n",
    "            max_deffinition = word_def.definition()\n",
    "    return max_deffinition"
   ]
  },
  {
   "cell_type": "code",
   "execution_count": 47,
   "metadata": {
    "scrolled": false
   },
   "outputs": [
    {
     "name": "stdout",
     "output_type": "stream",
     "text": [
      "the schedule ahead is light on divisional rivals. the kings play four pacific division opponents between now and christmas. there is one other demanding stretch of road games, nine in a 10-game span, between jan. 21 and feb. 9, but after that, the schedule may favor the kings. their five-day schedule break is feb. 10-15 and they have 13 of their final 20 games at home starting march 2. \n",
      "\n",
      "break - \n",
      "=============\n",
      "here's a few of the craziest lawsuits musicians have had to file just to get paid christian long share shutterstock getting paid as a musician has always seemed to be a daunting task. for as long as people have tried to make a living playing music, there have always been people and places that try to make use of bands’ talents by having them play for the benefit of “exposure,” cheating them out of a payday and belittling their craft as a whole. as a result, some musicians have resorted to the legal system to help them get the money they feel they’re owed. the most recent example is actor (and voice of about two-dozen simpsons characters) harry shearer, who filed a $125 million lawsuit last month against vivendi, the company that controls the rights to this is spinal tap , the widely beloved parody music doc. shearer played spinal tap bassist derek smalls, and also co-wrote all of the band’s music with co-stars christopher guest and michael mckean and director rob reiner. while the original production deal promised the quartet a 40% share of the profits, so far they’ve received $81 between 1984 and 2006 for merchandising, and another $98 between 1989 and 2006 for their music. to split. four ways. given that the wheels of justice turn slowly, shearer’s lawsuit might not see any kind of resolution for quite some time, so in the meantime, here’s a look at some of the recent lawsuits that musicians have had to file in order to get (or keep) the money that they feel was owed to them. yesh music vs. tidal getty image when tidal was first launched, jay-z announced that would would pay all artists an unprecedented 75% royalty rate. less than a year later, tidal was being sued for $5 million in unpaid royalties by yesh music and musician john emanuele from the band (wait for it) american dollar. the lawsuit claimed that tidal was streaming more than 100 of their songs and had yet to fork over any royalties that they claim were owed to them. the lawyer representing yesh music and emanuele, richard garbarini, stated that he found it “fairly amazing an organization that claims it was going to pay the artists, systematically does not pay the artists .” tidal went on record denying any of the allegations. kenny rogers vs. capitol records getty image the issue of digital distribution of music has been a hotly contested issue for years, as technology is quickly outpacing record labels ability (or willingness) to adequately compensate the artists responsible for the music. in 2012, when streaming was really beginning to take off, kenny rogers sued his label, capitol records, demanding a 50% payout of all the money made off the digital distribution of his songs , including ringtones, which came to roughly $400,000. read more rogers had originally requested an audit of emi in 2007, capitol records’ parent company, which took more than two years to complete. before long, all the people that rogers had been negotiating with were no longer with the company, and were replaced by a lawyer who told him that he would “ promptly try to resolve rogers’ requested audit,” more than four years after it was initially requested. this prolonged approach to problem solving led rogers to file the lawsuit. this came at the same time that several artists were busy putting together their own class action lawsuits against a host of other labels over the same issue. though rogers’ lawsuit was just a little bit different, as he opted to file his case in tennessee instead of california, believing that their courts would be more inclined to rule in his favor as a songwriter. it’s unclear if the lawsuit has yet to make it to court. li’l wayne vs. universal music group getty image while the rapper is still embroiled in a lawsuit with cash money ceo birdman over his recording contract in 2015, among many other issues , wayne also filed another lawsuit earlier this year, this time against the universal music group . he claims that the label was not only withholding royalties from him, but from several other artists on wayne’s label imprint, young money, to the tune of $40 million. the lawsuit also addressed some of wayne’s grievances over how cash money was using profit he felt he was owed to pay off their own debts. in august of this year, a judge put a hold on wayne’s case against universal, explaining that his lawsuit against birdman and cash money records would need to be resolved first. dayon davis vs. fox sports getty image here’s one that proves that it’s not always big-name performers involved in lawsuits about their royalties. back in 2006, composer dayon davis was hired by fox sports to help them build a music catalogue to score sports programs. four years later, he’d sign an official license agreement, which would pay him through performance rights organizations like bmi and ascap, which exist to ensure that musicians are paid when their work is used. then, in 2013, davis claimed that he had not been paid through those channels, and fox re-wrote his contract, offering to pay him on a sliding scale based on how often his songs were incorporated into their programming. yet another year later, davis still had not been paid, with fox sports contesting that he was overestimating the number of songs used. fox claimed 73 times, while davis’ team said the number was closer to 800 or so. davis eventually filed a lawsuit against fox in september of 2015, which is currently sitting in the purgatory of the american justice system . it’s also worth noting that bmi had sued davis back in 2011 , when his job was to put songs into the soundtrack for reality tv shows such as american idol and jersey shore . the performance rights group claims that davis had submitted falsified cue sheets that indicated how often the song would be used, which is exactly what davis is accusing fox sports of. stevie wonder vs. his former attorney’s widow getty image in 2015, stevie wonder was being sued by susan stack, the widow of his late lawyer, johanan vigoda. stack was claiming there was a stipulation in wonder’s contract with vigoda that she said entitled her to 6% of all royalties from the musician’s catalogue, arguing that there was stipulation in the contract that vigoda’s kin (stack) would receive the payments even after his death . wonder counter-sued stack, alleging that he never approved that particular clause, and had trusted that vigoda would have omitted it. while stack disputed his claim, ultimately it was wonder’s impaired vision that got him off the hook, proclaiming that “ he could not read any of the contracts that vigoda negotiated and prepared” before signing. stack claimed that there was a witness present reading the terms of the contract, but the judge threw out her case in november of last year, ruling in wonder’s favor. amen break okay, so this technically wasn’t a lawsuit, but rather some well-intentioned, downright altruistic crowd-funding. in early 2015, two british djs, martyn webster and steve theobald, set up a gofundme campaign to try and raise 1,000 pounds (a little over $1250) for the winstons, who recorded a song called “amen, brother” back in 1969. the song contains a six-second drum break, commonly referred to as the “amen break,” which has since been sampled about 1,500 times over the years , showing up in songs written by everyone from oasis to nwa. no one in the winstons rarely, if ever, got credit for it — much less any royalties. the dj’s gofundme page included a message to anyone who’d “ever written or sold any music with the amen break, or even just enjoyed one of the countless hundreds and hundreds of tunes that contain it” to donate. within a month, they’d raised 24 times their intended goal, and delivered an oversized check to former winstons’ frontman richard spencer, to which he appropriately replied “thank you very, very much. a-men .” while the original campaign was closed last march, a second campaign remains open indefinitely and is still taking donations, in case anyone feels like chipping in.\n",
      "\n",
      "break - enter someone's (virtual or real) property in an unauthorized manner, usually with the intent to steal or commit a violent act\n",
      "=============\n",
      "e'twaun moore scored 14 of his 20 points in the third quarter as new orleans appeared to break the game open. \n",
      "\n",
      "break - a sudden dash\n",
      "=============\n",
      "trailing by 10 at the break, oregon (1-1) got within 33-32 on chris boucher's dunk to cap a second half-opening 9-0 run. the ducks had the ball again with the chance to go ahead after dylan ennis' steal, but then turned it over.\n",
      "\n",
      "break - an unexpected piece of good luck\n",
      "=============\n",
      "the communist party's mouthpiece people's daily warned in an editorial on thursday that china must break monopolies over core technologies and standards and remain untethered to other countries' technology supply chains. \n",
      "\n",
      "break - \n",
      "=============\n",
      "the wto said this week that a tax break from washington state to help boeing develop its new 777x jetliner was a prohibited subsidy, in a setback for the u.s. planemaker as it eyes victory in a parallel case against airbus ( air.pa ). \n",
      "\n",
      "break - \n",
      "=============\n",
      "the u.s. market’s belief in president-elect trump’s pledge to “make america great again” continues to drive upward momentum. that's been particularly true for small caps ; just one additional up day for the russell 2000 will break its twenty-year record for consecutive gains. it’s currently up 0.57%, at 1,343.51. \n",
      "\n",
      "break - surpass in excellence\n",
      "=============\n",
      "but iranian international azmoun levelled for rostov just before the break after turning jerome boateng to coolly slot past ulreich.\n",
      "\n",
      "break - \n",
      "=============\n",
      "for your chance to win a luxury break for two, enter your details in the form below by midnight on friday 2 december. a united kingdom is out in uk cinemas on 25 november. for tickets information, go to the a united kingdom official site follow the latest telegraph film news read more about: \n",
      "\n",
      "break - (tennis) a score consisting of winning a game when your opponent was serving\n",
      "=============\n",
      "video transcript transcript for strait talk from times square nearly hour in the oval office like we're the closest we'll get. i hope not i sit up aspirations my allies who is to graham's programs oval office look at the cup. cup. and work into grams oval office. in me facebook. bc news facebook his book booth gas perfect in times square okay lc in new york who's going to be sitting here. we share in january 21. try according to the polls bill and hillary reserves hillary and bill. according to proposals for a while now and whoever's whoever's not permit not loma. government that have yet that only you can didn't cup regatta. i don't think he's gonna have a chair witnesses. so yeah i agree with you so we're gonna catch everybody up where we think the race is. if you take a look at all the polls today the average number is around hillary and leader 45 points which is well i think she's gonna end up winning back. the question in my mind is that she had fifty hershey rate below fifty so i think she wins she wins by a bigger margin. and barack obama beat mitt romney which is funny because of all the stuff that down 10% of much of the loser mitt romney is down just gonna get beat worse than it around. which is really really interesting immediate return we'll buyer's remorse or i wish i would have decisions. how do you see dusty topping the list has to be mitt romney why didn't knight did and why did i just decide it's a hand this off to the next person i should've kept my doors open. to the number two you have been joseph biden is also still think even on streets happy with the way things are going. he got to think joseph biden also speaking. man at i had gotten man i would have had all this other stuff i can beat this guy easily would have funny been president. well i think there's going to be a whole bunch of people with a looking back at this race and say what if whenever i agree with you what if what if when it. biden romney i think a whole winter candidates that ran against chopper whiting i'd taken more seriously right i think is a legitimate people in america the gop establishment. might imagine a more seriously at the beginning of this. but before we leave the oval office and talk about states in the country i want to ask you about. what's gonna happen for the leader that sitting in this oval office. in the aftermath of this election some of that person and that chair what are they going to be able to do. well i think number one it has to do with what happens to congress. in the aftermath as well. i mean if you have a democrat hillary clinton coming and it is still an all republican senate and obviously to control of the house. that's to be very different scenario obviously been approved urged congress and splits are. i think ideally for her she want the dams also get all of the senate this summer obama is such as originally carlos. lee's summer. confirmations can happen and and share some movement in that unless he's in the country together how does she bring the country together dessert time machine available know that at. but he does say such streak started chamber since the currency teachers assaults started it it is. you know i don't know if you wanted to say was 2008. when sarah palin broke into the national scene i don't know if you wanna say was 2000. i don't know where exactly wanted to talk about when the notion civility. in working to my. they're back in the ninety's when the impeachment stuff now that have been gone all the way there this has been a small erosion. of cooperative working for calming things bitterness yeah. afghanistan's at a point now we were talking earlier where truth and facts and information every little matter priced at all the partisans ya want it. biased information all of the leaders who know better feed into instead of saying pumping the brakes and saying no. perhaps some action look at facts there was an article written on the private hill. that looked one of the speeches donald trump in brook economy. and blew through the entire article was just about refuting everything he answers says it could put a decent to each of us not be factually. we true whether somebody to thing from this weekend. and they edited out in fifty. he lied 57 times this weekend this weekend just this weekend to us yet knows lisa maloney. so i think you know it's interesting that tomorrow is the anniversary. of abraham lincoln's election to them. presidency 1860 tomorrow's the anniversary of this labroque welcoming that. i think. hillary and the likely to win. he's gonna come as too as divided country as it was back in 1960. it's as divided. hopefully not its boston. but certainly in terms of ideology in terms of express your name to america's innocence to america's. it's it's going to be it's gonna do you bring you broke transition even if donald trump would have went to donald trump were to win with an all republican congress that's still would not be easy transition for his administration nor for the way the american people would accept vice president at so we're heading regardless to for a very difficult years. com. i'm not sure they're donald trump cards temperament. or the patience to wanna do things missed. i think he's rhetorically i think you have to forget about attempts to heal some other republican need to seek to carrick he's that we needed to me it drives the republicans took him back to fly across cuba it's the only language and the drugs may be looked to drugs and equipment is coming immediately here we're. party today. to be some hope. i i don't know i don't happen. ok let's go outside. walk out that with this and forties through its exports. we're gonna wander outside to the side door. to see the news to mobile office simulator based book booth. page on the trafalis keep talking lt i'm talking and talk business times square to times square take a lot. no real new york producer was there for easier and as you can see will mean. lt and i will be in there. tomorrow and that's where it good morning america and from nasa for a personal records america. nick stewart's four. it's a take a look give us a shot of this. united states of america which i never like where they locate alaska wise i think it definitely does but that becomes a that over here is where it's the matt phillips talked a little bit rate quick. what is this that's where you wanna be wednesday as hawaii after global warming. ties to connect twelve and you got to do this to. corporate residents could so that's the mat lv let's talk matt taylor. all right so what's your. expectation electoral college vote. well fundamentals of partisanship over here and install with florida right very important state. donald trump has not proceed to win the election if he doesn't win florida. quickly that that means that he isn't when employees probably over yet you have to make we've ever earlier knight yes from i just wanna make notes. there are a lot of people have been talking about the huge surge and early voters among latinos. i want to point out that. the recurrence of left no stone unturned. she recruited share to hold a fund raising concert in miami to make sugar lg bt community shows up in big numbers for her as well to guarantee that she wins florida and not lose its charm. so i think the pairing of florida and north carolina the florida north carolina that pairing tomorrow night we'll tell us a lot about where this election. because donald trump there's no map that i've seen it donald trump can win without winning both of those states. i guess i'm with you. i mean anything in this weird because president obama only won florida by abby was point 88 point yes and it wasn't called until the next day yes. so any loss yeah. so so you'll scenario we're talking about is not completely hopeless form it's doable yet. but the question is whether or not the fifty million plus voters that a come into the scene since 2008. progress or promotional express him or for her. and the other state that i find interesting is virginia because virginia used to be a red state used to be for a hundred years 150 years. and then barack obama started winning it and then now it seems like it's gone that's from the scene have a chance. there which is really are obviously having some came on the ticket selling bottles well. when thousands are without jobs there's there's a shift in ideology in this area you don't kind of started in dc. and as he had more or more transportation are more more people extending out they've infiltrated purchasing goods and you're right they're seeing their ticket to children. it's athens around really that don't feed of the confederacy this virginia. so the once they pass a one both of us know well michigan yes everybody's in michigan today. this is not flipping people from the bitten this risk of death. that's the permit. used against britain. flew yet tonight i think that any talk it turning red. it's incredibly optimistic if not ninety agri based are not just a toll but we're missing genders. we know was important that state we are some of the kind of people who were investigating letters stand for what they won't stand. i think there is a little bit of white working class that has happening in ohio which i think it's going to be very. close and and count on me when ohio there's some atlantans are easy and ohio. he was beat the arizona and nevada with an optimist you see the shots with a couple of bride standing next to hillary clinton's intellect landa of them philip fusion. they could which usually we're because she's not a basketball person others say. but steve she does like celebrities and celebrities like her result. well let's go closer to your new home. i only stayed out here are there's two states out here that i think are interesting to talk about the first one which is nevada yes. i think it's already lost to donald trump sony lost that if you take a look at the early voter what's happening only about there's this huge i call it. all lug ronde that they play if i can still latino vote and a survivor in the hands of all the ground they asked that keep. the big wave is here. asked i think when you look at yearly vote about half of its in already its air overwhelmingly. a huge increase in latino vote in nevada. he would have to win i think the numbers he got to win but what the keg. election day voters by twenty points in order to wind event so that state. if he does it when he has to win a michigan. we're listening and he's not winning michigan that it that makes its top so that's what i think nevada but you have another state. watch this i meus for interview talk. these some live there in provo. lovely state beautiful state under rated statements in this to progress street. but what's really hilarious to me is that you had a guy and evan mcmullen who literally jumps and a couple months out. not a couple months out from record debate no just a couple months out here he did it again. the groundswell of mormon support he has their plus he's a very civil and capable human being to can work day as he's he's gotten to a point now where he may. actually prevent donald trump for securing what has long been seduced and we in red state. you may even win in the state which would be the first to third party candidate won a states sends 196890s. george wallace which does two things in my opinion. one. obviously isn't priced as is his story merchants have written obviously fans because he came out that experience against property sort of stuck trump. in his home state was to be a good pattern about themselves but also suit is very encouraging. the 22 when he of the yacht because we'd been. asking whenever gonna have this third party when and how. if you have a guy come man. within five months of the election. and win eight states imagine what what happened. it's of viable party got together as a third party had a groundswell of ground game and in terms of their campaign. and had some more elusive and not democrat i'm not republican in this. what humans i have been looking for a candidate yes so i think it's sexy news we've talked about this. i think one of the things in the aftermath of this election just like we talked about the leadership challenge whoever's president's going to be. one of the things i think. that i am optimistic about is i think we're gonna see a whole bunch of people in 28 teams run as independents for congress for senate. for statewide office for local office because people are tired of the two political party system. that will be fan i wasn't terribly arrogant and right now up just fifty million new voters are talked about earlier 42 of them 42% of my did oppressed democrats but to 48%. i can present. sex and the fastest growing group of voters is in the senate there's so we started something yes west outweighed her. this i think we're tracking them away but i'm so i think that's i'm fascinated by utah fascinated this wanting to viewers thought i understand when you tune in tomorrow. which have please do you not abc dot com. on that look on the app but for a digital whatever. 7 o'clock o'clock both so. watch it would. the way it works is no state will be called until polls and that stayed close. and the race for the white house whose president won't be called to at least. until the polls closed in california the mother go to the returns so it's all 11 pm eastern time. 8 pme pacific time nothing will be called that rates won't be called but states will be called as we know them as they close across the way. and they are likely to see more red states called then blew this it you'll see in the early going in the early going. yes but then. once the numbers to close and with and these states haven't been called an authority wear that. this is blue. yet this is a nice blue your specific campus of the blue wall right here. looks like next to a red light regular red monopoly deaths but unfortunately the red states department which is not a i had as many of us that are. how many electoral votes so basically is she's actions sixty. and we haven't heard this yet yet it's to start doing whatever it is you gonna do it is sponsoring out of high and greta whatever it is your response to an average about what was. we go let's talk texas for a sentence that's right let's where you are that's right live. donald trump in all likelihood there was this whole thing well can texas turn blue it's gonna carry it but it's not going to be the by the margin. that mitt romney carried it around if it carried about eighteen points and tony twelve it's going to be closer it may be nine maybe 1088. but it's a reason why is that same wave that's care unit effective bad florida. latino wave. his that turnout in texas among latinos has been finality of the largest latino turnout ever they've ever seen in there so it's not gonna turn it blue. but it certainly gets it set up to turn purple. that is asked me if viewers what they did with would be so great that you actually 2008. but this is going to be able to employ eight years rader would've thought you crazy. but it will be in play i don't know if it'll be a plane point 18. but it could be employee for eighteen independents wanted to start running and when he eighteen point right do it could be purple before it turns blue. what about independent from texas. an independent from texas assessment the president strategy guide and direct. we'll save death. i'm taking time off after this is. it's yeah everybody waited citizens you'll get another let's get another shot at absolutely look at give us a shadow of the seats booked. we take a look here once again. this is our fantastic said all updates tomorrow abc news else slide that students have praised book. and inside is the answer graham oval office miniature version of it. which is pretty cool. people will be to come to times square line up. content security were dog fans rioted and dogs and they'll be dogs you get a common side take your photograph inside the oval office. we get a celebrity alert michael strahan will be out here it's wednesday jtj i'll be here and you may we may that you may have special guests from inside come out. so what are they come out you should come out at this mexico. apparently on a closed just tune in. 7 pm tomorrow we're actually doing a facebook we don't want early and we. as for thirty straight talk. thirty this is here he's due prisons were doing inside though at that. i don't deck near the cedar tomorrow for a port security will give yet more indication we may learn some stuff along the way. he told me tomorrow and don't even know it just. thanks clu manner. oh and. this transcript has been automatically generated and may not be 100% accurate. now playing: hillary clinton's battleground blitz now playing: 2016 election has been goldmine for comedians now playing: trump hits 8 states in final hours of campaign now playing: wall street reacts to fbi clinton email investigation now playing: presidential election polls show a virtual tie in florida and north carolina now playing: james comey likely to have frosty relationship with whoever wins election now playing: donald trump in a minute now playing: 2016 - 1 day: bill clinton makes pitch in nc battleground now playing: obama campaigns for hillary clinton in new hampshire now playing: bill clinton gives final solo campaign rally of the election cycle now playing: strait talk from times square now playing: 1992 - 1 day: bush insists he has a shot vs. clinton now playing: 2000 - 1 day: jennings on key 7 states in bush vs. gore now playing: america 101: why do we vote on the first tuesday? now playing: 2008 - 1 day: obama's grandmother passes away now playing: 2016 - 1 day: trump campaign's battleground blitz now playing: 2016 - 1 day: nearly 500 days on trump campaign now playing: 2016 - 1 day: clinton campaign barnstorming battlegrounds now playing: 2016 - 1 day: clinton checks in with grandchildren now playing: family builds electric fence to protect trump lawn signs now playing: {{itm.title}} {\"id\":43369718,\"title\":\"strait talk from times square\",\"duration\":\"16:26\",\"description\":\"matt dowd and lz granderson break down the state storylines at play one day ahead of this historic election.\",\"url\":\"/politics/video/strait-talk-times-square-43369718\",\"section\":\"politics\",\"mediatype\":\"default\"} \n",
      "\n",
      "break - \n",
      "=============\n"
     ]
    }
   ],
   "source": [
    "for sent in break_sents:\n",
    "    print(sent)\n",
    "    print('break - {}'.format(lesk('break', normalize(sent), 10)))\n",
    "    print('=============')"
   ]
  },
  {
   "cell_type": "code",
   "execution_count": null,
   "metadata": {},
   "outputs": [],
   "source": []
  }
 ],
 "metadata": {
  "kernelspec": {
   "display_name": "Python 3",
   "language": "python",
   "name": "python3"
  },
  "language_info": {
   "codemirror_mode": {
    "name": "ipython",
    "version": 3
   },
   "file_extension": ".py",
   "mimetype": "text/x-python",
   "name": "python",
   "nbconvert_exporter": "python",
   "pygments_lexer": "ipython3",
   "version": "3.6.6"
  }
 },
 "nbformat": 4,
 "nbformat_minor": 2
}
